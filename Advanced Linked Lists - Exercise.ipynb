{
 "cells": [
  {
   "cell_type": "markdown",
   "metadata": {},
   "source": [
    "# LAB | PY Linked List Exercises (Advanced)\n"
   ]
  },
  {
   "cell_type": "markdown",
   "metadata": {},
   "source": [
    "\n",
    "## Overview\n"
   ]
  },
  {
   "cell_type": "markdown",
   "metadata": {},
   "source": [
    "\n",
    "This exercise set focuses on various operations and problems related to linked lists in Python. Each exercise is categorized by difficulty level, and examples are provided for clarity.\n"
   ]
  },
  {
   "cell_type": "markdown",
   "metadata": {},
   "source": [
    "\n",
    "## Instructions\n"
   ]
  },
  {
   "cell_type": "markdown",
   "metadata": {},
   "source": [
    "\n",
    "- Complete each exercise by writing the appropriate Python code.\n",
    "- Complete your code in a Jupyter Notebook (.ipynb) format.\n",
    "- Submit the link to your forked repository containing the notebook with your implementation.\n",
    "\n",
    "Make sure to follow these steps carefully to ensure proper submission of your work.\n"
   ]
  },
  {
   "cell_type": "markdown",
   "metadata": {},
   "source": [
    "\n",
    "\n",
    "## Exercises\n"
   ]
  },
  {
   "cell_type": "markdown",
   "metadata": {},
   "source": [
    "1. **Create a Singly Linked List**\n",
    "   - Write a Python program to create a singly linked list, append some items, and iterate through the list.\n",
    "\n",
    "   ```Example:\n",
    "   Input: linked list: 10->20->30\n",
    "   Output: 10 20 30\n",
    "   ```\n"
   ]
  },
  {
   "cell_type": "code",
   "execution_count": 207,
   "metadata": {},
   "outputs": [],
   "source": [
    "# [your code here]\n",
    "# TODO\n",
    "# Create a hard-coded linked list\n",
    "# Iterate through the list and print the values\n",
    "\n",
    "class Node:\n",
    "    def __init__(self, data):\n",
    "        self.data = data\n",
    "        self.next = None\n",
    "\n",
    "class LinkedList:\n",
    "    def __init__(self):\n",
    "        self.head = None\n",
    "\n",
    "    def append(self, data):\n",
    "        new_node = Node(data)\n",
    "        # check if head already exists\n",
    "        if self.head is None:\n",
    "            self.head = new_node\n",
    "            return\n",
    "        \n",
    "        current_node = self.head\n",
    "        while current_node.next is not None:\n",
    "            current_node = current_node.next\n",
    "        current_node.next = new_node\n",
    "\n",
    "    def print_list(self):\n",
    "        current_node = self.head\n",
    "        while current_node is not None:\n",
    "            print(current_node.data, end= \"->\")\n",
    "            current_node = current_node.next\n",
    "        print(\"None\")\n",
    "\n",
    "    def find_size(self):\n",
    "        length = 0\n",
    "        current_node = self.head\n",
    "\n",
    "        while current_node is not None:\n",
    "            length += 1\n",
    "            current_node = current_node.next\n",
    "        return length\n",
    "\n",
    "    def find_item(self, item):\n",
    "        current_node = self.head\n",
    "        \n",
    "        index = 0\n",
    "        found = False\n",
    "        \n",
    "        while current_node is not None:\n",
    "            if current_node.data == item:\n",
    "                print(f\"Item found at index {index}\")\n",
    "                found = True\n",
    "            current_node = current_node.next\n",
    "            index += 1\n",
    "        if not found:\n",
    "            print(\"Item not in linked list\")\n",
    "\n",
    "    def access_by_index(self, index):\n",
    "        position = 0\n",
    "        size = self.find_size() -1\n",
    "        if index > size:\n",
    "            print(\"Index out of bounds\")\n",
    "            return\n",
    "\n",
    "        current_node = self.head\n",
    "\n",
    "        while position < index:\n",
    "            current_node = current_node.next\n",
    "            position += 1\n",
    "        return current_node\n",
    "\n",
    "    def delete_first(self):\n",
    "        self.head = self.head.next\n",
    "\n",
    "    def delete_last(self):\n",
    "        length = self.find_size()\n",
    "        second_to_last_node = self.access_by_index(length - 2) # -2 because length does not start at 0\n",
    "        second_to_last_node.next = None\n",
    "\n",
    "\n",
    "    def find_mid(self):\n",
    "        mid = round(((self.find_size() - 1) / 2),0) # get the length, minus one for index, divided by 2 for middle and round to get int\n",
    "        mid_node = self.access_by_index(mid)\n",
    "        return mid_node.data\n",
    "    \n",
    "    def remove_duplicates(self):\n",
    "        seen = set()\n",
    "\n",
    "        current_node = self.head\n",
    "        prev_node = None\n",
    "\n",
    "        while current_node is not None:\n",
    "            if current_node.data in seen:\n",
    "                prev_node.next = current_node.next\n",
    "            else:\n",
    "                seen.add(current_node.data)\n",
    "                prev_node = current_node\n",
    "            current_node = current_node.next"
   ]
  },
  {
   "cell_type": "code",
   "execution_count": 208,
   "metadata": {},
   "outputs": [],
   "source": [
    "llist = LinkedList()\n",
    "llist.append(10)\n",
    "llist.append(29)\n",
    "llist.append(3)\n",
    "llist.append(3)\n",
    "llist.append(300)\n",
    "llist.append(350)\n",
    "llist.append(300)\n",
    "llist.append(30)\n"
   ]
  },
  {
   "cell_type": "code",
   "execution_count": 209,
   "metadata": {},
   "outputs": [
    {
     "name": "stdout",
     "output_type": "stream",
     "text": [
      "10->29->3->3->300->350->300->30->None\n"
     ]
    }
   ],
   "source": [
    "llist.print_list()"
   ]
  },
  {
   "cell_type": "code",
   "execution_count": 210,
   "metadata": {},
   "outputs": [
    {
     "data": {
      "text/plain": [
       "8"
      ]
     },
     "execution_count": 210,
     "metadata": {},
     "output_type": "execute_result"
    }
   ],
   "source": [
    "llist.find_size()"
   ]
  },
  {
   "cell_type": "code",
   "execution_count": 211,
   "metadata": {},
   "outputs": [
    {
     "name": "stdout",
     "output_type": "stream",
     "text": [
      "Item not in linked list\n"
     ]
    }
   ],
   "source": [
    "llist.find_item(5)"
   ]
  },
  {
   "cell_type": "code",
   "execution_count": 212,
   "metadata": {},
   "outputs": [
    {
     "data": {
      "text/plain": [
       "300"
      ]
     },
     "execution_count": 212,
     "metadata": {},
     "output_type": "execute_result"
    }
   ],
   "source": [
    "llist.access_by_index(4).data"
   ]
  },
  {
   "cell_type": "code",
   "execution_count": 213,
   "metadata": {},
   "outputs": [
    {
     "name": "stdout",
     "output_type": "stream",
     "text": [
      "29->3->3->300->350->300->30->None\n"
     ]
    }
   ],
   "source": [
    "llist.delete_first()\n",
    "llist.print_list()"
   ]
  },
  {
   "cell_type": "code",
   "execution_count": 214,
   "metadata": {},
   "outputs": [
    {
     "name": "stdout",
     "output_type": "stream",
     "text": [
      "29->3->3->300->350->300->None\n"
     ]
    }
   ],
   "source": [
    "llist.delete_last()\n",
    "llist.print_list()"
   ]
  },
  {
   "cell_type": "code",
   "execution_count": 215,
   "metadata": {},
   "outputs": [
    {
     "data": {
      "text/plain": [
       "3"
      ]
     },
     "execution_count": 215,
     "metadata": {},
     "output_type": "execute_result"
    }
   ],
   "source": [
    "llist.find_mid()"
   ]
  },
  {
   "cell_type": "code",
   "execution_count": 216,
   "metadata": {},
   "outputs": [],
   "source": [
    "llist.remove_duplicates()"
   ]
  },
  {
   "cell_type": "code",
   "execution_count": 217,
   "metadata": {},
   "outputs": [
    {
     "name": "stdout",
     "output_type": "stream",
     "text": [
      "29->3->300->350->None\n"
     ]
    }
   ],
   "source": [
    "llist.print_list()"
   ]
  },
  {
   "cell_type": "markdown",
   "metadata": {},
   "source": [
    "2. **Find Size of a Singly Linked List**\n",
    "   - Write a Python program to find the size of a singly linked list.\n",
    "   ```Example:\n",
    "   Input: linked list: 1->2->3->4->5\n",
    "   Output: 5\n",
    "   ```"
   ]
  },
  {
   "cell_type": "code",
   "execution_count": 13,
   "metadata": {},
   "outputs": [],
   "source": [
    "# [your code here]\n",
    "# TODO\n",
    "# Create a hard-coded linked list\n",
    "# Calculate the size of the linked list"
   ]
  },
  {
   "cell_type": "markdown",
   "metadata": {},
   "source": [
    "3. **Search for an Item in a Singly Linked List**\n",
    "   - Write a Python program to search for a specific item in a singly linked list and return true if the item is found; otherwise, return false.\n",
    "\n",
    "   ```Example:\n",
    "   Input: linked list: 1->2->3->4, search for 3\n",
    "   Output: True\n",
    "   ```"
   ]
  },
  {
   "cell_type": "code",
   "execution_count": 14,
   "metadata": {},
   "outputs": [],
   "source": [
    "# [your code here]\n",
    "\n",
    "# TODO\n",
    "# Search for an item in the linked list"
   ]
  },
  {
   "cell_type": "markdown",
   "metadata": {},
   "source": [
    "\n",
    "4. **Access an Item by Index in a Singly Linked List**\n",
    "   - Write a Python program to access a specific item in a singly linked list using index value.\n",
    "\n",
    "   ```Example:\n",
    "   Input: linked list: 1->2->3->4->5, index 2\n",
    "   Output: 3\n",
    "   ```"
   ]
  },
  {
   "cell_type": "code",
   "execution_count": 15,
   "metadata": {},
   "outputs": [],
   "source": [
    "# [your code here]\n",
    "# TODO\n",
    "# Access an item by index in the linked list"
   ]
  },
  {
   "cell_type": "markdown",
   "metadata": {},
   "source": [
    "\n",
    "5. **Delete the First Item from a Singly Linked List**\n",
    "   - Write a Python program to delete the first item from a singly linked list.\n",
    "\n",
    "   ```Example:\n",
    "   Input: linked list: 1->2->3->4->5\n",
    "   Output: 2->3->4->5\n",
    "   ```"
   ]
  },
  {
   "cell_type": "code",
   "execution_count": 16,
   "metadata": {},
   "outputs": [],
   "source": [
    "# [your code here]\n",
    "\n",
    "# TODO\n",
    "# Delete the first item from the linked list"
   ]
  },
  {
   "cell_type": "markdown",
   "metadata": {},
   "source": [
    "\n",
    "6. **Delete the Last Item from a Singly Linked List**\n",
    "    - Write a Python program to delete the last item from a singly linked list.\n",
    "\n",
    "    ```Example:\n",
    "    Input: linked list: 1->2->3->4->5\n",
    "    Output: 1->2->3->4\n",
    "    ```"
   ]
  },
  {
   "cell_type": "code",
   "execution_count": 17,
   "metadata": {},
   "outputs": [],
   "source": [
    "# [your code here]\n",
    "# TODO\n",
    "# Delete the last item from the linked list"
   ]
  },
  {
   "cell_type": "markdown",
   "metadata": {},
   "source": [
    "\n",
    "7. **Find Middle of a Singly Linked List**\n",
    "    - Write a Python program to find the middle node of a singly linked list.\n",
    "\n",
    "    ```Example:\n",
    "    Input: linked list: 1->2->3->4->5\n",
    "    Output: 3\n",
    "    ```"
   ]
  },
  {
   "cell_type": "code",
   "execution_count": 18,
   "metadata": {},
   "outputs": [],
   "source": [
    "# [your code here]\n",
    "# TODO\n",
    "# Find the middle node of a singly linked list"
   ]
  },
  {
   "cell_type": "markdown",
   "metadata": {},
   "source": [
    "8. **Remove Duplicates from a Singly Linked List**\n",
    "    - Write a Python program to remove duplicates from a singly linked list.\n",
    "\n",
    "    ```Example:\n",
    "    Input: linked list: 1->2->3->2->1\n",
    "    Output: 1->2->3\n",
    "    ```"
   ]
  },
  {
   "cell_type": "code",
   "execution_count": 19,
   "metadata": {},
   "outputs": [],
   "source": [
    "# [your code here]\n",
    "# TODO\n",
    "# Remove duplicates from the linked list"
   ]
  },
  {
   "cell_type": "markdown",
   "metadata": {},
   "source": [
    "\n",
    "## Advanced Exercises\n"
   ]
  },
  {
   "cell_type": "markdown",
   "metadata": {},
   "source": [
    "\n",
    "1. **Reverse a Singly Linked List**\n",
    "    - Write a Python program to reverse a singly linked list.\n",
    "\n",
    "    ```Example:\n",
    "    Input: linked list: 1->2->3->4\n",
    "    Output: 4->3->2->1\n",
    "    ```"
   ]
  },
  {
   "cell_type": "code",
   "execution_count": 20,
   "metadata": {},
   "outputs": [],
   "source": [
    "# [your code here]\n",
    "# TODO\n",
    "# Reverse the singly linked list"
   ]
  },
  {
   "cell_type": "markdown",
   "metadata": {},
   "source": [
    "2. **Merge Two Sorted Linked Lists**\n",
    "     - Write a Python program to merge two sorted singly linked lists into one sorted singly linked list.\n",
    "\n",
    "     ```Example:\n",
    "     Input: l1: 1->3->5, l2: 2->4\n",
    "     Output: 1->2->3->4->5\n",
    "     ```\n"
   ]
  },
  {
   "cell_type": "code",
   "execution_count": 21,
   "metadata": {},
   "outputs": [],
   "source": [
    "# [your code here]\n",
    "# TODO\n",
    "# Merge two sorted singly linked lists"
   ]
  },
  {
   "cell_type": "markdown",
   "metadata": {},
   "source": [
    "\n",
    "##  Bonus Challenges\n"
   ]
  },
  {
   "cell_type": "markdown",
   "metadata": {},
   "source": [
    "\n",
    "1. **Detect Cycle in a Singly Linked List**\n",
    "    - Write a Python program to detect if there is a cycle in the singly linked list.\n",
    "\n",
    "    ```Example:\n",
    "    Input: linked list with cycle (e.g., last node points back to node with value 3)\n",
    "    Output: True\n",
    "    ```\n"
   ]
  },
  {
   "cell_type": "code",
   "execution_count": 22,
   "metadata": {},
   "outputs": [],
   "source": [
    "# [your code here]\n",
    "# TODO\n",
    "# Create nodes and form cycle manually for testing"
   ]
  },
  {
   "cell_type": "markdown",
   "metadata": {},
   "source": [
    "\n",
    "2. **Flatten Multilevel Doubly Linked List**\n",
    "     - Write a Python program to flatten a multilevel doubly linked list into a single-level doubly linked list.\n",
    "\n",
    "     ```Example:\n",
    "     Input: multilevel doubly linked list with child pointers\n",
    "     Output: flattened doubly linked list\n",
    "     ```"
   ]
  },
  {
   "cell_type": "code",
   "execution_count": 23,
   "metadata": {},
   "outputs": [],
   "source": [
    "# [your code here]\n",
    "# TODO\n",
    "# Create multilevel doubly linked nodes for testing"
   ]
  },
  {
   "cell_type": "markdown",
   "metadata": {},
   "source": [
    "\n",
    "### Exercise Completion\n",
    "Once you have completed all exercises:\n",
    "- Review your solutions.\n",
    "- Ensure your Python code are well-documented with comments explaining your logic.\n",
    "- Save your notebook for submission or further review.\n",
    "\n",
    "Happy coding! Enjoy practicing Arrays in Python!"
   ]
  }
 ],
 "metadata": {
  "kernelspec": {
   "display_name": "datasci_env",
   "language": "python",
   "name": "python3"
  },
  "language_info": {
   "codemirror_mode": {
    "name": "ipython",
    "version": 3
   },
   "file_extension": ".py",
   "mimetype": "text/x-python",
   "name": "python",
   "nbconvert_exporter": "python",
   "pygments_lexer": "ipython3",
   "version": "3.8.20"
  }
 },
 "nbformat": 4,
 "nbformat_minor": 2
}
